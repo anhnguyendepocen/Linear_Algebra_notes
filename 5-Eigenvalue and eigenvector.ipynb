{
 "cells": [
  {
   "cell_type": "markdown",
   "metadata": {},
   "source": [
    "This chapter begins the “second half” of linear algebra. The first half was about $Ax = b$. The new problem $Ax = λx$ will still be solved by simplifying a matrix—making it diagonal if possible. The basic step is no longer to subtract a multiple of one row from another: Elimination changes the eigenvalues, which we don’t want.\n",
    "\n",
    "Determinants give a transition from $Ax = b$ to $Ax = λx$. In both cases the determinant leads to a “formal solution”: to Cramer’s rule for $x = A^{−1}b$, and to the polynomial $\\det(A − λI)$, whose roots will be the eigenvalues. (**All matrices are now square**; the eigenvalues of a rectangular matrix make no more sense than its determinant.) The determinant can actually be used if n = 2 or 3. For large n, computing λ is more difficult than solving $Ax = b$.\n",
    "\n",
    "**Think A as a function** (e.g. x --> f(x)). Here, input is x and the output is Ax. Most output vectors are pointing to different directions as x. We are especially interested with the out vectors that in the same directions of the input vectors: Ax parallel to x. That is:$$Ax = \\lambda x$$\n",
    "Here, the number $\\lambda$ is an **eigenvalue** of the matrix A, and the vector x is the associated **eigenvector**. This means that only certain special numbers are eigenvalues, and only certain special vectors x\n",
    "are eigenvectors. Our goal is to find the eigenvalues and eigenvectors, λ’s and x’s, and to use them.\n",
    "\n",
    "$$(A-\\lambda I)x = 0$$\n",
    "The vector x is in the nullspace of $A − \\lambda I$. The number $\\lambda$ is chosen so that $A − \\lambda I$ has a nullspace. Of course, every matrix has a null space. Here, we want a *nonzero* eigenvector x. To be of any use, the nullspace of$A − \\lambda I$ must contain vectors other than zero. In short, $A − \\lambda I$ must be singular. **The number $\\lambda$ is an eigenvalue of A if and only if $A − \\lambda I$ is singular: $\\det (A − \\lambda I) = 0$. So there must be nonzero vectors x in its nullspace**.\n",
    "\n",
    "### The steps in solving Ax = λx:\n",
    "1. Compute the determinant of A − λI. With λ subtracted along the diagonal, this determinant is a polynomial of degree n. It starts with $(−\\lambda)^n$.\n",
    "2. Find the roots of this polynomial. The n roots are the eigenvalues of A.\n",
    "3. For each eigenvalue solve the equation $(A − \\lambda I)x = 0$. Since the determinant is zero, there are solutions other than $x = 0$. Those are the eigenvectors.\n",
    "\n",
    "#### Facts about eigenvalues\n",
    "\n",
    "- Sum of $\\lambda$'s = trace of A (: $a_{11} + a_{22} + \\cdots + a_{nn}$).\n",
    "- Product of $\\lambda$'s = $\\det A$.\n",
    "\n",
    "**Differential equation** $du/dt = Au$ has pure exponential solutions $u = e^{\\lambda t}x$; the eigenvalue gives the rate of growth or decay, and the eigenvector x develops at this rate. The other solutions will be mixtures of these pure solutions, and the mixture is adjusted to fit the initial conditions."
   ]
  },
  {
   "cell_type": "markdown",
   "metadata": {},
   "source": [
    "- A zero eigenvalue signals that A is singular (not invertible); its determinant is zero. Invertible matrices have all $λ \\neq 0$.\n",
    "- Projection matrix has eigenvalues 1 (when project to itself) and 0 (when project to the nullspace).\n",
    "- The eigenvalues are on the main diagonal when A is triangular. This points to one main theme of the chapter: **To transform A into a diagonal or triangular matrix without changing its eigenvalues**. We emphasize once more that the Gaussian factorization A = LU is not suited to this purpose. The eigenvalues of U may be visible on the diagonal, but they are not the eigenvalues of A.\n",
    "- For most matrices, there is no doubt that the eigenvalue problem is computationally more difficult than $Ax = b$.  For a 5 by 5 matrix, det(A − λI) involves $λ^5$. Galois and Abel proved that there can be no algebraic formula for the roots of a fifth-degree polynomial."
   ]
  },
  {
   "cell_type": "code",
   "execution_count": null,
   "metadata": {
    "collapsed": true
   },
   "outputs": [],
   "source": []
  }
 ],
 "metadata": {
  "kernelspec": {
   "display_name": "Python 2",
   "language": "python",
   "name": "python2"
  },
  "language_info": {
   "codemirror_mode": {
    "name": "ipython",
    "version": 2
   },
   "file_extension": ".py",
   "mimetype": "text/x-python",
   "name": "python",
   "nbconvert_exporter": "python",
   "pygments_lexer": "ipython2",
   "version": "2.7.10"
  }
 },
 "nbformat": 4,
 "nbformat_minor": 0
}
