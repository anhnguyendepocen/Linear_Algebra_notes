{
 "cells": [
  {
   "cell_type": "markdown",
   "metadata": {},
   "source": [
    "This chapter begins the “second half” of linear algebra. The first half was about $Ax = b$. The new problem $Ax = λx$ will still be solved by simplifying a matrix—making it diagonal if possible. The basic step is no longer to subtract a multiple of one row from another: Elimination changes the eigenvalues, which we don’t want.\n",
    "\n",
    "Determinants give a transition from $Ax = b$ to $Ax = λx$. In both cases the determinant leads to a “formal solution”: to Cramer’s rule for $x = A^{−1}b$, and to the polynomial $\\det(A − λI)$, whose roots will be the eigenvalues. (**All matrices are now square**; the eigenvalues of a rectangular matrix make no more sense than its determinant.) The determinant can actually be used if n = 2 or 3. For large n, computing λ is more difficult than solving $Ax = b$.\n",
    "\n",
    "**Think A as a function** (e.g. x --> f(x)). Here, input is x and the output is Ax. Most output vectors are pointing to different directions as x. We are especially interested with the out vectors that in the same directions of the input vectors: Ax parallel to x. That is:$$Ax = \\lambda x$$\n",
    "Here, the number $\\lambda$ is an **eigenvalue** of the matrix A, and the vector x is the associated **eigenvector**. This means that only certain special numbers are eigenvalues, and only certain special vectors x\n",
    "are eigenvectors. Our goal is to find the eigenvalues and eigenvectors, λ’s and x’s, and to use them.\n",
    "\n",
    "$$(A-\\lambda I)x = 0$$\n",
    "The vector x is in the nullspace of $A − \\lambda I$. The number $\\lambda$ is chosen so that $A − \\lambda I$ has a nullspace. Of course, every matrix has a null space. Here, we want a *nonzero* eigenvector x. To be of any use, the nullspace of$A − \\lambda I$ must contain vectors other than zero. In short, $A − \\lambda I$ must be singular. **The number $\\lambda$ is an eigenvalue of A if and only if $A − \\lambda I$ is singular: $\\det (A − \\lambda I) = 0$. So there must be nonzero vectors x in its nullspace**.\n",
    "\n",
    "### The steps in solving Ax = λx:\n",
    "1. Compute the determinant of A − λI. With λ subtracted along the diagonal, this determinant is a polynomial of degree n. It starts with $(−\\lambda)^n$.\n",
    "2. Find the roots of this polynomial. The n roots are the eigenvalues of A.\n",
    "3. For each eigenvalue solve the equation $(A − \\lambda I)x = 0$. Since the determinant is zero, there are solutions other than $x = 0$. Those are the eigenvectors.\n",
    "\n",
    "#### Facts about eigenvalues\n",
    "\n",
    "- Sum of $\\lambda$'s = trace of A (: $a_{11} + a_{22} + \\cdots + a_{nn}$).\n",
    "- Product of $\\lambda$'s = $\\det A$.\n",
    "\n",
    "**Differential equation** $du/dt = Au$ has pure exponential solutions $u = e^{\\lambda t}x$; the eigenvalue gives the rate of growth or decay, and the eigenvector x develops at this rate. The other solutions will be mixtures of these pure solutions, and the mixture is adjusted to fit the initial conditions."
   ]
  },
  {
   "cell_type": "markdown",
   "metadata": {},
   "source": [
    "- A zero eigenvalue signals that A is singular (not invertible); its determinant is zero. Invertible matrices have all $λ \\neq 0$.\n",
    "- Projection matrix has eigenvalues 1 (when project to itself) and 0 (when project to the nullspace).\n",
    "- The eigenvalues are on the main diagonal when A is triangular. This points to one main theme of the chapter: **To transform A into a diagonal or triangular matrix without changing its eigenvalues**. We emphasize once more that the Gaussian factorization A = LU is not suited to this purpose. The eigenvalues of U may be visible on the diagonal, but they are not the eigenvalues of A.\n",
    "- For most matrices, there is no doubt that the eigenvalue problem is computationally more difficult than $Ax = b$.  For a 5 by 5 matrix, det(A − λI) involves $λ^5$. Galois and Abel proved that there can be no algebraic formula for the roots of a fifth-degree polynomial."
   ]
  },
  {
   "cell_type": "code",
   "execution_count": null,
   "metadata": {
    "collapsed": true
   },
   "outputs": [],
   "source": []
  },
  {
   "cell_type": "markdown",
   "metadata": {},
   "source": [
    "### Diagonalization of a Matrix\n",
    "Suppose the n by n matrix $A$ has n linearly independent eigenvectors. If these eigenvectors are the columns of a matrix $S$, then $S^{−1}AS$ is a diagonal matrix $\\Lambda$. The eigenvalues of A are on the diagonal of $\\Lambda$: $$S^{-1}AS= \\Lambda = \\begin{bmatrix}\\lambda_{1}\\\\\n",
    " & \\lambda_{2}\\\\\n",
    " &  & \\ddots\\\\\n",
    " &  &  & \\lambda_{n}\n",
    "\\end{bmatrix}$$\n",
    "$$A = S\\Lambda S^{-1}$$\n",
    "We call $S$ the “eigenvector matrix” and $\\Lambda$ the “eigenvalue matrix\".\n",
    "\n",
    "- **Diagonalizability of A depends on enough eigenvectors.**\n",
    "- **Invertibility of A depends on nonzero eigenvalues.**\n",
    "- **Diagonalization can fail only if there are repeated eigenvalues**. Even then, it does not always fail. A = I has repeated eigenvalues 1, 1,..., 1 but it is already diagonal.\n",
    "- If eigenvectors x1,..., xk correspond to different eigenvalues λ1,..., λk, then those eigenvectors are linearly independent.\n",
    "- If the matrix A has no repeated eigenvalues—the numbers λ1,..., λn are distinct—then its n eigenvectors are automatically independent. Therefore any matrix with distinct eigenvalues can be diagonalized.\n",
    "- The diagonalizing matrix S is not unique. An eigenvector x can be multiplied by a constant, and remains an eigenvector.\n",
    "- Not all matrices possess n linearly independent eigenvectors, so not all matrices are diagonalizable. "
   ]
  },
  {
   "cell_type": "markdown",
   "metadata": {},
   "source": [
    "### Power and product: $A^k$ and $AB$\n",
    "The eigenvalues of $A^k$ are $\\lambda_1^k,\\cdots, \\lambda_n^k$, and each eigenvector of $A$ is still an eigenvector of $A^k$. When $S$ diagonalizes $A$, it also diagonalizes $A^k$:\n",
    "$$\\Lambda^k = (S^{−1}AS)(S^{−1}AS)\\cdots (S^{−1}AS) = S^{−1}A^kS.$$\n",
    "$$A^k = S\\Lambda^kS^{-1}$$\n",
    "\n",
    "- Eigenvalues can tell us about $A^k$. e.g. $A^k \\rightarrow 0$ as $k \\rightarrow \\infty$, if all absolute values of eigenvalues < 1. \n",
    "- Diagonalizable matrices share the same eigenvector matrix S if and only if AB = BA."
   ]
  },
  {
   "cell_type": "markdown",
   "metadata": {},
   "source": [
    "### Difference equations\n",
    "Suppose you deposit 1000 dollors and the bank gives you 6% interestes. And suppose the bank is really nice and allow instant give back of your interests. Then $$p_{k+1} = (1 + 0.06 \\Delta t)p_k.$$\n",
    "$$\\frac{p_{k+1} - p_{k}}{\\Delta t} = 0.06p_k$$\n",
    "$$\\frac{dp}{dt} = 0.06p$$\n",
    "$$p(t)=e^{0.06t}p_0$$"
   ]
  },
  {
   "cell_type": "markdown",
   "metadata": {},
   "source": [
    "### Fibonacci numbers\n",
    "0, 1, 1, 2, 3, 5, 8, ... $x_n = x_{n-1} + x_{n-2}, for\\, n \\geq 3$. Put it in matrix form (with the trick $ x_{n-1} =  x_{n-1}$):\n",
    "$$\\begin{bmatrix}x_{n}\\\\\n",
    "x_{n-1}\n",
    "\\end{bmatrix}=\\mu_{n}=A\\mu_{n-1}=\\begin{bmatrix}1 & 1\\\\\n",
    "1 & 0\n",
    "\\end{bmatrix}\\begin{bmatrix}x_{n-1}\\\\\n",
    "x_{n-2}\n",
    "\\end{bmatrix}$$\n",
    "$$\\begin{bmatrix}x_{n}\\\\\n",
    "x_{n-1}\n",
    "\\end{bmatrix}=\\begin{bmatrix}1 & 1\\\\\n",
    "1 & 0\n",
    "\\end{bmatrix}^{2}\\begin{bmatrix}x_{n-2}\\\\\n",
    "x_{n-3}\n",
    "\\end{bmatrix}=\\begin{bmatrix}1 & 1\\\\\n",
    "1 & 0\n",
    "\\end{bmatrix}^{n-2}\\begin{bmatrix}1\\\\\n",
    "1\n",
    "\\end{bmatrix}=\\begin{bmatrix}1 & 1\\\\\n",
    "1 & 0\n",
    "\\end{bmatrix}^{n-1}\\begin{bmatrix}1\\\\\n",
    "0\n",
    "\\end{bmatrix}$$\n",
    "The issue now is to calculate $A^n$ to get $x_n$. We already know that $A^n = S\\Lambda^n S^{-1}$.\n",
    "\n",
    "$$\\Lambda=\\begin{bmatrix}\\frac{1+\\sqrt{5}}{2} & 0\\\\\n",
    "0 & \\frac{1-\\sqrt{5}}{2}\n",
    "\\end{bmatrix},S=\\begin{bmatrix}\\frac{1+\\sqrt{5}}{2} & \\frac{1-\\sqrt{5}}{2}\\\\\n",
    "1 & 1\n",
    "\\end{bmatrix},S^{-1}=\\begin{bmatrix}\\frac{\\sqrt{5}}{5} & \\frac{5-\\sqrt{5}}{10}\\\\\n",
    "\\frac{-\\sqrt{5}}{5} & \\frac{5+\\sqrt{5}}{10}\n",
    "\\end{bmatrix}$$\n",
    "Then we get:\n",
    "$$x_{n}=\\frac{\\sqrt{5}}{5}\\left(\\frac{1+\\sqrt{5}}{2}\\right)^{n}-\\frac{\\sqrt{5}}{5}\\left(\\frac{1-\\sqrt{5}}{2}\\right)^{n}\\approx\\frac{\\sqrt{5}}{5}\\left(\\frac{1+\\sqrt{5}}{2}\\right)^{n}$$\n",
    "We then round to the nearest integer and that is $x_n$.\n"
   ]
  },
  {
   "cell_type": "markdown",
   "metadata": {},
   "source": [
    "### Markov matrix\n",
    "A Markov matrix A has all $a_{ij} \\geq 0$, with each column adding to 1.\n",
    "\n",
    "(a) $\\lambda_1$ = 1 is an eigenvalue of A.  \n",
    "(b) Its eigenvector $x_1$ is nonnegative — and it is a steady state, since $Ax_1 = x_1$.  \n",
    "(c) The other eigenvalues satisfy $||\\lambda_i|| \\leq 1$.  \n",
    "(d) If A or any power of A has all positive entries, these other |$\\lambda_i$| are below 1. The solution $A^ku_0$ approaches a multiple of $x_1$ —which is the steady state $\\mu_\\infty$."
   ]
  },
  {
   "cell_type": "markdown",
   "metadata": {},
   "source": [
    "### Stability of $u_{k+1} = Au_k$\n",
    "The difference equation $u_{k+1} = Au_k$ is:\n",
    "\n",
    "- stable if all eigenvalues satisfy |$\\lambda_i$| < 1;\n",
    "- neutrally stable if some |$\\lambda_i$| = 1 and all the other |$\\lambda_i$| < 1; and\n",
    "- unstable if at least one eigenvalue has |$\\lambda_i$| > 1.\n",
    "\n",
    "In the stable case, the powers $A_k$ approach zero and so does $u_k = A^ku_0$."
   ]
  },
  {
   "cell_type": "code",
   "execution_count": null,
   "metadata": {
    "collapsed": true
   },
   "outputs": [],
   "source": []
  }
 ],
 "metadata": {
  "kernelspec": {
   "display_name": "Python 2",
   "language": "python",
   "name": "python2"
  },
  "language_info": {
   "codemirror_mode": {
    "name": "ipython",
    "version": 2
   },
   "file_extension": ".py",
   "mimetype": "text/x-python",
   "name": "python",
   "nbconvert_exporter": "python",
   "pygments_lexer": "ipython2",
   "version": "2.7.10"
  }
 },
 "nbformat": 4,
 "nbformat_minor": 0
}
